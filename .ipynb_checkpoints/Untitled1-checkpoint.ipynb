{
 "cells": [
  {
   "cell_type": "code",
   "execution_count": 22,
   "metadata": {},
   "outputs": [],
   "source": [
    "import pandas as pd\n",
    "import matplotlib.pyplot as plt\n",
    "import seaborn as sns"
   ]
  },
  {
   "cell_type": "code",
   "execution_count": 23,
   "metadata": {},
   "outputs": [],
   "source": [
    "df = pd.read_csv('salary_data_Cleaned.csv')"
   ]
  },
  {
   "cell_type": "code",
   "execution_count": 24,
   "metadata": {
    "scrolled": true
   },
   "outputs": [
    {
     "data": {
      "text/html": [
       "<div>\n",
       "<style scoped>\n",
       "    .dataframe tbody tr th:only-of-type {\n",
       "        vertical-align: middle;\n",
       "    }\n",
       "\n",
       "    .dataframe tbody tr th {\n",
       "        vertical-align: top;\n",
       "    }\n",
       "\n",
       "    .dataframe thead th {\n",
       "        text-align: right;\n",
       "    }\n",
       "</style>\n",
       "<table border=\"1\" class=\"dataframe\">\n",
       "  <thead>\n",
       "    <tr style=\"text-align: right;\">\n",
       "      <th></th>\n",
       "      <th>Job Title</th>\n",
       "      <th>Salary Estimate</th>\n",
       "      <th>Job Description</th>\n",
       "      <th>Rating</th>\n",
       "      <th>Company Name</th>\n",
       "      <th>Location</th>\n",
       "      <th>Headquarters</th>\n",
       "      <th>Size</th>\n",
       "      <th>Founded</th>\n",
       "      <th>Type of ownership</th>\n",
       "      <th>...</th>\n",
       "      <th>min_salary</th>\n",
       "      <th>max_salary</th>\n",
       "      <th>avg_salary</th>\n",
       "      <th>company_txt</th>\n",
       "      <th>job_state</th>\n",
       "      <th>some_state</th>\n",
       "      <th>age</th>\n",
       "      <th>python_yn</th>\n",
       "      <th>R_yn</th>\n",
       "      <th>Spark</th>\n",
       "    </tr>\n",
       "  </thead>\n",
       "  <tbody>\n",
       "    <tr>\n",
       "      <th>0</th>\n",
       "      <td>Data Science Intern</td>\n",
       "      <td>$84K-$109K (Glassdoor est.)</td>\n",
       "      <td>Data Science – Summer Intern\\n\\nHow will this ...</td>\n",
       "      <td>3.4</td>\n",
       "      <td>Remedy BPCI Partners, LLC.\\n3.4</td>\n",
       "      <td>New York State</td>\n",
       "      <td>Norwalk, CT</td>\n",
       "      <td>201 to 500 employees</td>\n",
       "      <td>2011</td>\n",
       "      <td>Company - Private</td>\n",
       "      <td>...</td>\n",
       "      <td>84</td>\n",
       "      <td>109</td>\n",
       "      <td>96.5</td>\n",
       "      <td>Remedy BPCI Partners, LLC.\\n</td>\n",
       "      <td>New York State</td>\n",
       "      <td>0</td>\n",
       "      <td>9</td>\n",
       "      <td>1</td>\n",
       "      <td>0</td>\n",
       "      <td>1</td>\n",
       "    </tr>\n",
       "    <tr>\n",
       "      <th>1</th>\n",
       "      <td>Data Science Intern</td>\n",
       "      <td>$84K-$109K (Glassdoor est.)</td>\n",
       "      <td>Data Science Intern\\n\\nJob Title\\n\\nData Scien...</td>\n",
       "      <td>4.6</td>\n",
       "      <td>Blend360\\n4.6</td>\n",
       "      <td>Columbia, MD</td>\n",
       "      <td>Newark, NJ</td>\n",
       "      <td>51 to 200 employees</td>\n",
       "      <td>2002</td>\n",
       "      <td>Company - Private</td>\n",
       "      <td>...</td>\n",
       "      <td>84</td>\n",
       "      <td>109</td>\n",
       "      <td>96.5</td>\n",
       "      <td>Blend360\\n</td>\n",
       "      <td>Columbia</td>\n",
       "      <td>0</td>\n",
       "      <td>18</td>\n",
       "      <td>0</td>\n",
       "      <td>0</td>\n",
       "      <td>0</td>\n",
       "    </tr>\n",
       "    <tr>\n",
       "      <th>2</th>\n",
       "      <td>Senior Business Analyst</td>\n",
       "      <td>$84K-$109K (Glassdoor est.)</td>\n",
       "      <td>About GoDaddy\\n\\nGoDaddy powers the world's la...</td>\n",
       "      <td>3.7</td>\n",
       "      <td>GoDaddy\\n3.7</td>\n",
       "      <td>Austin, TX</td>\n",
       "      <td>Scottsdale, AZ</td>\n",
       "      <td>5001 to 10000 employees</td>\n",
       "      <td>1997</td>\n",
       "      <td>Company - Public</td>\n",
       "      <td>...</td>\n",
       "      <td>84</td>\n",
       "      <td>109</td>\n",
       "      <td>96.5</td>\n",
       "      <td>GoDaddy\\n</td>\n",
       "      <td>Austin</td>\n",
       "      <td>0</td>\n",
       "      <td>23</td>\n",
       "      <td>1</td>\n",
       "      <td>0</td>\n",
       "      <td>1</td>\n",
       "    </tr>\n",
       "  </tbody>\n",
       "</table>\n",
       "<p>3 rows × 26 columns</p>\n",
       "</div>"
      ],
      "text/plain": [
       "                 Job Title              Salary Estimate  \\\n",
       "0      Data Science Intern  $84K-$109K (Glassdoor est.)   \n",
       "1      Data Science Intern  $84K-$109K (Glassdoor est.)   \n",
       "2  Senior Business Analyst  $84K-$109K (Glassdoor est.)   \n",
       "\n",
       "                                     Job Description  Rating  \\\n",
       "0  Data Science – Summer Intern\\n\\nHow will this ...     3.4   \n",
       "1  Data Science Intern\\n\\nJob Title\\n\\nData Scien...     4.6   \n",
       "2  About GoDaddy\\n\\nGoDaddy powers the world's la...     3.7   \n",
       "\n",
       "                      Company Name        Location    Headquarters  \\\n",
       "0  Remedy BPCI Partners, LLC.\\n3.4  New York State     Norwalk, CT   \n",
       "1                    Blend360\\n4.6    Columbia, MD      Newark, NJ   \n",
       "2                     GoDaddy\\n3.7      Austin, TX  Scottsdale, AZ   \n",
       "\n",
       "                      Size  Founded  Type of ownership  ... min_salary  \\\n",
       "0     201 to 500 employees     2011  Company - Private  ...         84   \n",
       "1      51 to 200 employees     2002  Company - Private  ...         84   \n",
       "2  5001 to 10000 employees     1997   Company - Public  ...         84   \n",
       "\n",
       "  max_salary avg_salary                   company_txt       job_state  \\\n",
       "0        109       96.5  Remedy BPCI Partners, LLC.\\n  New York State   \n",
       "1        109       96.5                    Blend360\\n        Columbia   \n",
       "2        109       96.5                     GoDaddy\\n          Austin   \n",
       "\n",
       "   some_state  age  python_yn  R_yn Spark  \n",
       "0           0    9          1     0     1  \n",
       "1           0   18          0     0     0  \n",
       "2           0   23          1     0     1  \n",
       "\n",
       "[3 rows x 26 columns]"
      ]
     },
     "execution_count": 24,
     "metadata": {},
     "output_type": "execute_result"
    }
   ],
   "source": [
    "df.head()"
   ]
  },
  {
   "cell_type": "code",
   "execution_count": 25,
   "metadata": {},
   "outputs": [
    {
     "data": {
      "text/plain": [
       "Index(['Job Title', 'Salary Estimate', 'Job Description', 'Rating',\n",
       "       'Company Name', 'Location', 'Headquarters', 'Size', 'Founded',\n",
       "       'Type of ownership', 'Industry', 'Sector', 'Revenue', 'Competitors',\n",
       "       'hourly', 'employer_Provided', 'min_salary', 'max_salary', 'avg_salary',\n",
       "       'company_txt', 'job_state', 'some_state', 'age', 'python_yn', 'R_yn',\n",
       "       'Spark'],\n",
       "      dtype='object')"
      ]
     },
     "execution_count": 25,
     "metadata": {},
     "output_type": "execute_result"
    }
   ],
   "source": [
    "df.columns"
   ]
  },
  {
   "cell_type": "code",
   "execution_count": 26,
   "metadata": {},
   "outputs": [
    {
     "ename": "SyntaxError",
     "evalue": "invalid syntax (<ipython-input-26-2829b7a1d0c6>, line 22)",
     "output_type": "error",
     "traceback": [
      "\u001b[1;36m  File \u001b[1;32m\"<ipython-input-26-2829b7a1d0c6>\"\u001b[1;36m, line \u001b[1;32m22\u001b[0m\n\u001b[1;33m    else\u001b[0m\n\u001b[1;37m         ^\u001b[0m\n\u001b[1;31mSyntaxError\u001b[0m\u001b[1;31m:\u001b[0m invalid syntax\n"
     ]
    }
   ],
   "source": [
    "def title_simplifier(title):\n",
    "    if 'data scientist' in title.lower():\n",
    "        return 'data scientist'\n",
    "    elif 'data engineer' in title.lower():\n",
    "        return 'data engineer'\n",
    "    elif 'analyst' in title.lower():\n",
    "        return 'analyst'\n",
    "    elif 'machine learning' in title.lower():\n",
    "        return 'mle'\n",
    "    elif 'manager' in title.lower():\n",
    "        return 'manager'\n",
    "    elif 'director' in title.lower():\n",
    "        return 'director'\n",
    "    else:\n",
    "        return 'na'\n",
    "    \n",
    "def seniority(title):\n",
    "    if 'sr' in title.lower() or 'senior' in title.lower() or 'lead' in title.lower() or 'principal' in title.lower():\n",
    "        return 'senior'\n",
    "    elif 'jr' in title.lower() or 'jr' in title.lower():\n",
    "        return 'jr'\n",
    "    else: \n",
    "        return'na'\n",
    "\n",
    "## titulo del trabajo y trato honorifico\n",
    "\n",
    "## corecciòn al estado de los Angeles\n",
    "\n",
    "## Corecciòn al tamaño de la descripciòn del trabajo"
   ]
  },
  {
   "cell_type": "code",
   "execution_count": null,
   "metadata": {},
   "outputs": [],
   "source": [
    "df['job_simp'] = df['Job Title'].apply(title_simplifier)"
   ]
  },
  {
   "cell_type": "code",
   "execution_count": null,
   "metadata": {},
   "outputs": [],
   "source": [
    "df.job_simp.value_counts()"
   ]
  }
 ],
 "metadata": {
  "kernelspec": {
   "display_name": "Python 3",
   "language": "python",
   "name": "python3"
  },
  "language_info": {
   "codemirror_mode": {
    "name": "ipython",
    "version": 3
   },
   "file_extension": ".py",
   "mimetype": "text/x-python",
   "name": "python",
   "nbconvert_exporter": "python",
   "pygments_lexer": "ipython3",
   "version": "3.7.6"
  }
 },
 "nbformat": 4,
 "nbformat_minor": 4
}
